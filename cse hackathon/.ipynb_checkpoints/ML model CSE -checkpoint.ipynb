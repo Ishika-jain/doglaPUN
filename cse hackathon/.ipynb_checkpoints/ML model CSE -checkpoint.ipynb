{
 "cells": [
  {
   "cell_type": "markdown",
   "id": "ongoing-tourism",
   "metadata": {
    "papermill": {
     "duration": 0.029468,
     "end_time": "2021-05-26T13:24:24.122943",
     "exception": false,
     "start_time": "2021-05-26T13:24:24.093475",
     "status": "completed"
    },
    "tags": []
   },
   "source": [
    "<h1><b>Disease Prediction with GUI<b></h1>\n",
    "    \n",
    "A disease prediction model working on support vector machine (SVM). It takes the symptoms of the user as input along with its location and predicts the most probable disease which the user might be facing. The same data is being sent to cloud and being later analysed using analytical tool tableau."
   ]
  },
  {
   "cell_type": "markdown",
   "id": "anticipated-decade",
   "metadata": {
    "papermill": {
     "duration": 0.028607,
     "end_time": "2021-05-26T13:24:24.179974",
     "exception": false,
     "start_time": "2021-05-26T13:24:24.151367",
     "status": "completed"
    },
    "tags": []
   },
   "source": [
    "For demonstration purpose, only the data of the diseases GERD and Hepatitis C is being sent to the cloud and analysed."
   ]
  },
  {
   "cell_type": "markdown",
   "id": "analyzed-illustration",
   "metadata": {
    "papermill": {
     "duration": 0.027801,
     "end_time": "2021-05-26T13:24:24.236546",
     "exception": false,
     "start_time": "2021-05-26T13:24:24.208745",
     "status": "completed"
    },
    "tags": []
   },
   "source": [
    "The data has been taken from https://www.kaggle.com/itachi9604/disease-symptom-description-dataset."
   ]
  },
  {
   "cell_type": "markdown",
   "id": "metropolitan-powell",
   "metadata": {
    "papermill": {
     "duration": 0.027158,
     "end_time": "2021-05-26T13:24:24.346499",
     "exception": false,
     "start_time": "2021-05-26T13:24:24.319341",
     "status": "completed"
    },
    "tags": []
   },
   "source": [
    "<h2>Importing the libraries</h2>"
   ]
  },
  {
   "cell_type": "code",
   "execution_count": 10,
   "id": "electronic-making",
   "metadata": {
    "execution": {
     "iopub.execute_input": "2021-05-26T13:24:24.413357Z",
     "iopub.status.busy": "2021-05-26T13:24:24.412607Z",
     "iopub.status.idle": "2021-05-26T13:24:25.683132Z",
     "shell.execute_reply": "2021-05-26T13:24:25.682447Z",
     "shell.execute_reply.started": "2021-05-23T05:47:26.82092Z"
    },
    "papermill": {
     "duration": 1.30906,
     "end_time": "2021-05-26T13:24:25.683290",
     "exception": false,
     "start_time": "2021-05-26T13:24:24.374230",
     "status": "completed"
    },
    "tags": []
   },
   "outputs": [],
   "source": [
    "import pandas as pd\n",
    "import numpy as np\n",
    "import matplotlib.pyplot as plt\n",
    "from sklearn.model_selection import train_test_split\n",
    "from sklearn.svm import SVC\n",
    "from sklearn.metrics import f1_score, accuracy_score, confusion_matrix\n",
    "import seaborn as sns\n",
    "from tkinter import *\n",
    "from tkinter import messagebox\n",
    "import sys \n",
    "import urllib\n",
    "import urllib.request"
   ]
  },
  {
   "cell_type": "markdown",
   "id": "generic-supplier",
   "metadata": {
    "papermill": {
     "duration": 0.026992,
     "end_time": "2021-05-26T13:24:25.737778",
     "exception": false,
     "start_time": "2021-05-26T13:24:25.710786",
     "status": "completed"
    },
    "tags": []
   },
   "source": [
    "<h2>Importing the dataset</h2>"
   ]
  },
  {
   "cell_type": "code",
   "execution_count": 11,
   "id": "shared-array",
   "metadata": {
    "execution": {
     "iopub.execute_input": "2021-05-26T13:24:25.798126Z",
     "iopub.status.busy": "2021-05-26T13:24:25.797486Z",
     "iopub.status.idle": "2021-05-26T13:24:25.805310Z",
     "shell.execute_reply": "2021-05-26T13:24:25.805784Z",
     "shell.execute_reply.started": "2021-05-23T05:47:26.831847Z"
    },
    "papermill": {
     "duration": 0.040957,
     "end_time": "2021-05-26T13:24:25.805987",
     "exception": false,
     "start_time": "2021-05-26T13:24:25.765030",
     "status": "completed"
    },
    "tags": []
   },
   "outputs": [
    {
     "name": "stdout",
     "output_type": "stream",
     "text": [
      "[WinError 3] The system cannot find the path specified: '/kaggle/input/disease-symptom-description-dataset'\n",
      "C:\\Users\\user\\Desktop\\cse hackathon\n"
     ]
    }
   ],
   "source": [
    "cd /kaggle/input/disease-symptom-description-dataset"
   ]
  },
  {
   "cell_type": "code",
   "execution_count": 12,
   "id": "received-indie",
   "metadata": {
    "execution": {
     "iopub.execute_input": "2021-05-26T13:24:25.868078Z",
     "iopub.status.busy": "2021-05-26T13:24:25.867437Z",
     "iopub.status.idle": "2021-05-26T13:24:25.948278Z",
     "shell.execute_reply": "2021-05-26T13:24:25.948947Z",
     "shell.execute_reply.started": "2021-05-23T05:47:26.851053Z"
    },
    "papermill": {
     "duration": 0.11472,
     "end_time": "2021-05-26T13:24:25.949184",
     "exception": false,
     "start_time": "2021-05-26T13:24:25.834464",
     "status": "completed"
    },
    "tags": []
   },
   "outputs": [
    {
     "ename": "FileNotFoundError",
     "evalue": "[Errno 2] No such file or directory: 'dataset.csv'",
     "output_type": "error",
     "traceback": [
      "\u001b[1;31m---------------------------------------------------------------------------\u001b[0m",
      "\u001b[1;31mFileNotFoundError\u001b[0m                         Traceback (most recent call last)",
      "\u001b[1;32m~\\AppData\\Local\\Temp/ipykernel_9104/4281211346.py\u001b[0m in \u001b[0;36m<module>\u001b[1;34m\u001b[0m\n\u001b[1;32m----> 1\u001b[1;33m \u001b[0mdf\u001b[0m \u001b[1;33m=\u001b[0m \u001b[0mpd\u001b[0m\u001b[1;33m.\u001b[0m\u001b[0mread_csv\u001b[0m\u001b[1;33m(\u001b[0m\u001b[1;34m'dataset.csv'\u001b[0m\u001b[1;33m)\u001b[0m\u001b[1;33m\u001b[0m\u001b[1;33m\u001b[0m\u001b[0m\n\u001b[0m\u001b[0;32m      2\u001b[0m \u001b[0mprint\u001b[0m\u001b[1;33m(\u001b[0m\u001b[0mdf\u001b[0m\u001b[1;33m.\u001b[0m\u001b[0mhead\u001b[0m\u001b[1;33m(\u001b[0m\u001b[1;33m)\u001b[0m\u001b[1;33m)\u001b[0m\u001b[1;33m\u001b[0m\u001b[1;33m\u001b[0m\u001b[0m\n\u001b[0;32m      3\u001b[0m \u001b[1;31m#df.describe()\u001b[0m\u001b[1;33m\u001b[0m\u001b[1;33m\u001b[0m\u001b[0m\n\u001b[0;32m      4\u001b[0m \u001b[0mdf1\u001b[0m \u001b[1;33m=\u001b[0m \u001b[0mpd\u001b[0m\u001b[1;33m.\u001b[0m\u001b[0mread_csv\u001b[0m\u001b[1;33m(\u001b[0m\u001b[1;34m'Symptom-severity.csv'\u001b[0m\u001b[1;33m)\u001b[0m\u001b[1;33m\u001b[0m\u001b[1;33m\u001b[0m\u001b[0m\n\u001b[0;32m      5\u001b[0m \u001b[0mprint\u001b[0m\u001b[1;33m(\u001b[0m\u001b[0mdf1\u001b[0m\u001b[1;33m.\u001b[0m\u001b[0mhead\u001b[0m\u001b[1;33m(\u001b[0m\u001b[1;33m)\u001b[0m\u001b[1;33m)\u001b[0m\u001b[1;33m\u001b[0m\u001b[1;33m\u001b[0m\u001b[0m\n",
      "\u001b[1;32m~\\anaconda3\\lib\\site-packages\\pandas\\util\\_decorators.py\u001b[0m in \u001b[0;36mwrapper\u001b[1;34m(*args, **kwargs)\u001b[0m\n\u001b[0;32m    309\u001b[0m                     \u001b[0mstacklevel\u001b[0m\u001b[1;33m=\u001b[0m\u001b[0mstacklevel\u001b[0m\u001b[1;33m,\u001b[0m\u001b[1;33m\u001b[0m\u001b[1;33m\u001b[0m\u001b[0m\n\u001b[0;32m    310\u001b[0m                 )\n\u001b[1;32m--> 311\u001b[1;33m             \u001b[1;32mreturn\u001b[0m \u001b[0mfunc\u001b[0m\u001b[1;33m(\u001b[0m\u001b[1;33m*\u001b[0m\u001b[0margs\u001b[0m\u001b[1;33m,\u001b[0m \u001b[1;33m**\u001b[0m\u001b[0mkwargs\u001b[0m\u001b[1;33m)\u001b[0m\u001b[1;33m\u001b[0m\u001b[1;33m\u001b[0m\u001b[0m\n\u001b[0m\u001b[0;32m    312\u001b[0m \u001b[1;33m\u001b[0m\u001b[0m\n\u001b[0;32m    313\u001b[0m         \u001b[1;32mreturn\u001b[0m \u001b[0mwrapper\u001b[0m\u001b[1;33m\u001b[0m\u001b[1;33m\u001b[0m\u001b[0m\n",
      "\u001b[1;32m~\\anaconda3\\lib\\site-packages\\pandas\\io\\parsers\\readers.py\u001b[0m in \u001b[0;36mread_csv\u001b[1;34m(filepath_or_buffer, sep, delimiter, header, names, index_col, usecols, squeeze, prefix, mangle_dupe_cols, dtype, engine, converters, true_values, false_values, skipinitialspace, skiprows, skipfooter, nrows, na_values, keep_default_na, na_filter, verbose, skip_blank_lines, parse_dates, infer_datetime_format, keep_date_col, date_parser, dayfirst, cache_dates, iterator, chunksize, compression, thousands, decimal, lineterminator, quotechar, quoting, doublequote, escapechar, comment, encoding, encoding_errors, dialect, error_bad_lines, warn_bad_lines, on_bad_lines, delim_whitespace, low_memory, memory_map, float_precision, storage_options)\u001b[0m\n\u001b[0;32m    584\u001b[0m     \u001b[0mkwds\u001b[0m\u001b[1;33m.\u001b[0m\u001b[0mupdate\u001b[0m\u001b[1;33m(\u001b[0m\u001b[0mkwds_defaults\u001b[0m\u001b[1;33m)\u001b[0m\u001b[1;33m\u001b[0m\u001b[1;33m\u001b[0m\u001b[0m\n\u001b[0;32m    585\u001b[0m \u001b[1;33m\u001b[0m\u001b[0m\n\u001b[1;32m--> 586\u001b[1;33m     \u001b[1;32mreturn\u001b[0m \u001b[0m_read\u001b[0m\u001b[1;33m(\u001b[0m\u001b[0mfilepath_or_buffer\u001b[0m\u001b[1;33m,\u001b[0m \u001b[0mkwds\u001b[0m\u001b[1;33m)\u001b[0m\u001b[1;33m\u001b[0m\u001b[1;33m\u001b[0m\u001b[0m\n\u001b[0m\u001b[0;32m    587\u001b[0m \u001b[1;33m\u001b[0m\u001b[0m\n\u001b[0;32m    588\u001b[0m \u001b[1;33m\u001b[0m\u001b[0m\n",
      "\u001b[1;32m~\\anaconda3\\lib\\site-packages\\pandas\\io\\parsers\\readers.py\u001b[0m in \u001b[0;36m_read\u001b[1;34m(filepath_or_buffer, kwds)\u001b[0m\n\u001b[0;32m    480\u001b[0m \u001b[1;33m\u001b[0m\u001b[0m\n\u001b[0;32m    481\u001b[0m     \u001b[1;31m# Create the parser.\u001b[0m\u001b[1;33m\u001b[0m\u001b[1;33m\u001b[0m\u001b[0m\n\u001b[1;32m--> 482\u001b[1;33m     \u001b[0mparser\u001b[0m \u001b[1;33m=\u001b[0m \u001b[0mTextFileReader\u001b[0m\u001b[1;33m(\u001b[0m\u001b[0mfilepath_or_buffer\u001b[0m\u001b[1;33m,\u001b[0m \u001b[1;33m**\u001b[0m\u001b[0mkwds\u001b[0m\u001b[1;33m)\u001b[0m\u001b[1;33m\u001b[0m\u001b[1;33m\u001b[0m\u001b[0m\n\u001b[0m\u001b[0;32m    483\u001b[0m \u001b[1;33m\u001b[0m\u001b[0m\n\u001b[0;32m    484\u001b[0m     \u001b[1;32mif\u001b[0m \u001b[0mchunksize\u001b[0m \u001b[1;32mor\u001b[0m \u001b[0miterator\u001b[0m\u001b[1;33m:\u001b[0m\u001b[1;33m\u001b[0m\u001b[1;33m\u001b[0m\u001b[0m\n",
      "\u001b[1;32m~\\anaconda3\\lib\\site-packages\\pandas\\io\\parsers\\readers.py\u001b[0m in \u001b[0;36m__init__\u001b[1;34m(self, f, engine, **kwds)\u001b[0m\n\u001b[0;32m    809\u001b[0m             \u001b[0mself\u001b[0m\u001b[1;33m.\u001b[0m\u001b[0moptions\u001b[0m\u001b[1;33m[\u001b[0m\u001b[1;34m\"has_index_names\"\u001b[0m\u001b[1;33m]\u001b[0m \u001b[1;33m=\u001b[0m \u001b[0mkwds\u001b[0m\u001b[1;33m[\u001b[0m\u001b[1;34m\"has_index_names\"\u001b[0m\u001b[1;33m]\u001b[0m\u001b[1;33m\u001b[0m\u001b[1;33m\u001b[0m\u001b[0m\n\u001b[0;32m    810\u001b[0m \u001b[1;33m\u001b[0m\u001b[0m\n\u001b[1;32m--> 811\u001b[1;33m         \u001b[0mself\u001b[0m\u001b[1;33m.\u001b[0m\u001b[0m_engine\u001b[0m \u001b[1;33m=\u001b[0m \u001b[0mself\u001b[0m\u001b[1;33m.\u001b[0m\u001b[0m_make_engine\u001b[0m\u001b[1;33m(\u001b[0m\u001b[0mself\u001b[0m\u001b[1;33m.\u001b[0m\u001b[0mengine\u001b[0m\u001b[1;33m)\u001b[0m\u001b[1;33m\u001b[0m\u001b[1;33m\u001b[0m\u001b[0m\n\u001b[0m\u001b[0;32m    812\u001b[0m \u001b[1;33m\u001b[0m\u001b[0m\n\u001b[0;32m    813\u001b[0m     \u001b[1;32mdef\u001b[0m \u001b[0mclose\u001b[0m\u001b[1;33m(\u001b[0m\u001b[0mself\u001b[0m\u001b[1;33m)\u001b[0m\u001b[1;33m:\u001b[0m\u001b[1;33m\u001b[0m\u001b[1;33m\u001b[0m\u001b[0m\n",
      "\u001b[1;32m~\\anaconda3\\lib\\site-packages\\pandas\\io\\parsers\\readers.py\u001b[0m in \u001b[0;36m_make_engine\u001b[1;34m(self, engine)\u001b[0m\n\u001b[0;32m   1038\u001b[0m             )\n\u001b[0;32m   1039\u001b[0m         \u001b[1;31m# error: Too many arguments for \"ParserBase\"\u001b[0m\u001b[1;33m\u001b[0m\u001b[1;33m\u001b[0m\u001b[0m\n\u001b[1;32m-> 1040\u001b[1;33m         \u001b[1;32mreturn\u001b[0m \u001b[0mmapping\u001b[0m\u001b[1;33m[\u001b[0m\u001b[0mengine\u001b[0m\u001b[1;33m]\u001b[0m\u001b[1;33m(\u001b[0m\u001b[0mself\u001b[0m\u001b[1;33m.\u001b[0m\u001b[0mf\u001b[0m\u001b[1;33m,\u001b[0m \u001b[1;33m**\u001b[0m\u001b[0mself\u001b[0m\u001b[1;33m.\u001b[0m\u001b[0moptions\u001b[0m\u001b[1;33m)\u001b[0m  \u001b[1;31m# type: ignore[call-arg]\u001b[0m\u001b[1;33m\u001b[0m\u001b[1;33m\u001b[0m\u001b[0m\n\u001b[0m\u001b[0;32m   1041\u001b[0m \u001b[1;33m\u001b[0m\u001b[0m\n\u001b[0;32m   1042\u001b[0m     \u001b[1;32mdef\u001b[0m \u001b[0m_failover_to_python\u001b[0m\u001b[1;33m(\u001b[0m\u001b[0mself\u001b[0m\u001b[1;33m)\u001b[0m\u001b[1;33m:\u001b[0m\u001b[1;33m\u001b[0m\u001b[1;33m\u001b[0m\u001b[0m\n",
      "\u001b[1;32m~\\anaconda3\\lib\\site-packages\\pandas\\io\\parsers\\c_parser_wrapper.py\u001b[0m in \u001b[0;36m__init__\u001b[1;34m(self, src, **kwds)\u001b[0m\n\u001b[0;32m     49\u001b[0m \u001b[1;33m\u001b[0m\u001b[0m\n\u001b[0;32m     50\u001b[0m         \u001b[1;31m# open handles\u001b[0m\u001b[1;33m\u001b[0m\u001b[1;33m\u001b[0m\u001b[0m\n\u001b[1;32m---> 51\u001b[1;33m         \u001b[0mself\u001b[0m\u001b[1;33m.\u001b[0m\u001b[0m_open_handles\u001b[0m\u001b[1;33m(\u001b[0m\u001b[0msrc\u001b[0m\u001b[1;33m,\u001b[0m \u001b[0mkwds\u001b[0m\u001b[1;33m)\u001b[0m\u001b[1;33m\u001b[0m\u001b[1;33m\u001b[0m\u001b[0m\n\u001b[0m\u001b[0;32m     52\u001b[0m         \u001b[1;32massert\u001b[0m \u001b[0mself\u001b[0m\u001b[1;33m.\u001b[0m\u001b[0mhandles\u001b[0m \u001b[1;32mis\u001b[0m \u001b[1;32mnot\u001b[0m \u001b[1;32mNone\u001b[0m\u001b[1;33m\u001b[0m\u001b[1;33m\u001b[0m\u001b[0m\n\u001b[0;32m     53\u001b[0m \u001b[1;33m\u001b[0m\u001b[0m\n",
      "\u001b[1;32m~\\anaconda3\\lib\\site-packages\\pandas\\io\\parsers\\base_parser.py\u001b[0m in \u001b[0;36m_open_handles\u001b[1;34m(self, src, kwds)\u001b[0m\n\u001b[0;32m    220\u001b[0m         \u001b[0mLet\u001b[0m \u001b[0mthe\u001b[0m \u001b[0mreaders\u001b[0m \u001b[0mopen\u001b[0m \u001b[0mIOHandles\u001b[0m \u001b[0mafter\u001b[0m \u001b[0mthey\u001b[0m \u001b[0mare\u001b[0m \u001b[0mdone\u001b[0m \u001b[1;32mwith\u001b[0m \u001b[0mtheir\u001b[0m \u001b[0mpotential\u001b[0m \u001b[0mraises\u001b[0m\u001b[1;33m.\u001b[0m\u001b[1;33m\u001b[0m\u001b[1;33m\u001b[0m\u001b[0m\n\u001b[0;32m    221\u001b[0m         \"\"\"\n\u001b[1;32m--> 222\u001b[1;33m         self.handles = get_handle(\n\u001b[0m\u001b[0;32m    223\u001b[0m             \u001b[0msrc\u001b[0m\u001b[1;33m,\u001b[0m\u001b[1;33m\u001b[0m\u001b[1;33m\u001b[0m\u001b[0m\n\u001b[0;32m    224\u001b[0m             \u001b[1;34m\"r\"\u001b[0m\u001b[1;33m,\u001b[0m\u001b[1;33m\u001b[0m\u001b[1;33m\u001b[0m\u001b[0m\n",
      "\u001b[1;32m~\\anaconda3\\lib\\site-packages\\pandas\\io\\common.py\u001b[0m in \u001b[0;36mget_handle\u001b[1;34m(path_or_buf, mode, encoding, compression, memory_map, is_text, errors, storage_options)\u001b[0m\n\u001b[0;32m    700\u001b[0m         \u001b[1;32mif\u001b[0m \u001b[0mioargs\u001b[0m\u001b[1;33m.\u001b[0m\u001b[0mencoding\u001b[0m \u001b[1;32mand\u001b[0m \u001b[1;34m\"b\"\u001b[0m \u001b[1;32mnot\u001b[0m \u001b[1;32min\u001b[0m \u001b[0mioargs\u001b[0m\u001b[1;33m.\u001b[0m\u001b[0mmode\u001b[0m\u001b[1;33m:\u001b[0m\u001b[1;33m\u001b[0m\u001b[1;33m\u001b[0m\u001b[0m\n\u001b[0;32m    701\u001b[0m             \u001b[1;31m# Encoding\u001b[0m\u001b[1;33m\u001b[0m\u001b[1;33m\u001b[0m\u001b[0m\n\u001b[1;32m--> 702\u001b[1;33m             handle = open(\n\u001b[0m\u001b[0;32m    703\u001b[0m                 \u001b[0mhandle\u001b[0m\u001b[1;33m,\u001b[0m\u001b[1;33m\u001b[0m\u001b[1;33m\u001b[0m\u001b[0m\n\u001b[0;32m    704\u001b[0m                 \u001b[0mioargs\u001b[0m\u001b[1;33m.\u001b[0m\u001b[0mmode\u001b[0m\u001b[1;33m,\u001b[0m\u001b[1;33m\u001b[0m\u001b[1;33m\u001b[0m\u001b[0m\n",
      "\u001b[1;31mFileNotFoundError\u001b[0m: [Errno 2] No such file or directory: 'dataset.csv'"
     ]
    }
   ],
   "source": [
    "df = pd.read_csv('dataset.csv')\n",
    "print(df.head())\n",
    "#df.describe()\n",
    "df1 = pd.read_csv('Symptom-severity.csv')\n",
    "print(df1.head())"
   ]
  },
  {
   "cell_type": "markdown",
   "id": "killing-bahrain",
   "metadata": {
    "papermill": {
     "duration": 0.028408,
     "end_time": "2021-05-26T13:24:26.006911",
     "exception": false,
     "start_time": "2021-05-26T13:24:25.978503",
     "status": "completed"
    },
    "tags": []
   },
   "source": [
    "<h2>Cleaning of Data</h2>"
   ]
  },
  {
   "cell_type": "code",
   "execution_count": null,
   "id": "aggregate-pottery",
   "metadata": {
    "execution": {
     "iopub.execute_input": "2021-05-26T13:24:26.077069Z",
     "iopub.status.busy": "2021-05-26T13:24:26.076057Z",
     "iopub.status.idle": "2021-05-26T13:24:26.161726Z",
     "shell.execute_reply": "2021-05-26T13:24:26.161165Z",
     "shell.execute_reply.started": "2021-05-23T05:47:26.956386Z"
    },
    "papermill": {
     "duration": 0.12625,
     "end_time": "2021-05-26T13:24:26.161924",
     "exception": false,
     "start_time": "2021-05-26T13:24:26.035674",
     "status": "completed"
    },
    "tags": []
   },
   "outputs": [],
   "source": [
    "df.isna().sum()\n",
    "df.isnull().sum()\n",
    "\n",
    "cols = df.columns\n",
    "data = df[cols].values.flatten()\n",
    "\n",
    "s = pd.Series(data)\n",
    "s = s.str.strip()\n",
    "s = s.values.reshape(df.shape)\n",
    "\n",
    "df = pd.DataFrame(s, columns=df.columns)\n",
    "\n",
    "df = df.fillna(0)\n",
    "df.head()"
   ]
  },
  {
   "cell_type": "markdown",
   "id": "thorough-person",
   "metadata": {
    "papermill": {
     "duration": 0.029882,
     "end_time": "2021-05-26T13:24:26.221089",
     "exception": false,
     "start_time": "2021-05-26T13:24:26.191207",
     "status": "completed"
    },
    "tags": []
   },
   "source": [
    "<h2>Encoding the the symptoms with their severity weight</h2>"
   ]
  },
  {
   "cell_type": "code",
   "execution_count": null,
   "id": "varying-cooperative",
   "metadata": {
    "execution": {
     "iopub.execute_input": "2021-05-26T13:24:26.288234Z",
     "iopub.status.busy": "2021-05-26T13:24:26.287193Z",
     "iopub.status.idle": "2021-05-26T13:24:26.880067Z",
     "shell.execute_reply": "2021-05-26T13:24:26.879467Z",
     "shell.execute_reply.started": "2021-05-23T05:47:27.053575Z"
    },
    "papermill": {
     "duration": 0.629301,
     "end_time": "2021-05-26T13:24:26.880209",
     "exception": false,
     "start_time": "2021-05-26T13:24:26.250908",
     "status": "completed"
    },
    "tags": []
   },
   "outputs": [],
   "source": [
    "vals = df.values\n",
    "symptoms = df1['Symptom'].unique()\n",
    "\n",
    "for i in range(len(symptoms)):\n",
    "    vals[vals == symptoms[i]] = df1[df1['Symptom'] == symptoms[i]]['weight'].values[0]\n",
    "    \n",
    "d = pd.DataFrame(vals, columns=cols)\n",
    "\n",
    "d = d.replace('dischromic _patches', 0)\n",
    "d = d.replace('spotting_ urination',0)\n",
    "df = d.replace('foul_smell_of urine',0)\n",
    "df.head()"
   ]
  },
  {
   "cell_type": "markdown",
   "id": "desirable-poker",
   "metadata": {
    "papermill": {
     "duration": 0.030793,
     "end_time": "2021-05-26T13:24:26.941856",
     "exception": false,
     "start_time": "2021-05-26T13:24:26.911063",
     "status": "completed"
    },
    "tags": []
   },
   "source": [
    "<h2> Storing the diseases and encoded symptoms in seperate dataframes</h2>"
   ]
  },
  {
   "cell_type": "code",
   "execution_count": null,
   "id": "undefined-russia",
   "metadata": {
    "execution": {
     "iopub.execute_input": "2021-05-26T13:24:27.007336Z",
     "iopub.status.busy": "2021-05-26T13:24:27.006426Z",
     "iopub.status.idle": "2021-05-26T13:24:27.040471Z",
     "shell.execute_reply": "2021-05-26T13:24:27.039820Z",
     "shell.execute_reply.started": "2021-05-23T05:47:27.685801Z"
    },
    "papermill": {
     "duration": 0.069047,
     "end_time": "2021-05-26T13:24:27.040613",
     "exception": false,
     "start_time": "2021-05-26T13:24:26.971566",
     "status": "completed"
    },
    "tags": []
   },
   "outputs": [],
   "source": [
    "(df[cols] == 0).all()\n",
    "\n",
    "df['Disease'].value_counts()\n",
    "\n",
    "df['Disease'].unique()\n",
    "\n",
    "data = df.iloc[:,1:].values\n",
    "labels = df['Disease'].values"
   ]
  },
  {
   "cell_type": "markdown",
   "id": "sustained-demographic",
   "metadata": {
    "papermill": {
     "duration": 0.029211,
     "end_time": "2021-05-26T13:24:27.099510",
     "exception": false,
     "start_time": "2021-05-26T13:24:27.070299",
     "status": "completed"
    },
    "tags": []
   },
   "source": [
    "<h2>Splitting the data and training the model</h2>"
   ]
  },
  {
   "cell_type": "code",
   "execution_count": null,
   "id": "demographic-consumption",
   "metadata": {
    "execution": {
     "iopub.execute_input": "2021-05-26T13:24:27.164604Z",
     "iopub.status.busy": "2021-05-26T13:24:27.163881Z",
     "iopub.status.idle": "2021-05-26T13:24:27.577870Z",
     "shell.execute_reply": "2021-05-26T13:24:27.577227Z",
     "shell.execute_reply.started": "2021-05-23T05:47:27.723331Z"
    },
    "papermill": {
     "duration": 0.449289,
     "end_time": "2021-05-26T13:24:27.578010",
     "exception": false,
     "start_time": "2021-05-26T13:24:27.128721",
     "status": "completed"
    },
    "tags": []
   },
   "outputs": [],
   "source": [
    "x_train, x_test, y_train, y_test = train_test_split(data, labels, shuffle=True, train_size = 0.85)\n",
    "print(x_train.shape, x_test.shape, y_train.shape, y_test.shape)\n",
    "\n",
    "model = SVC()\n",
    "model.fit(x_train, y_train)\n",
    "\n",
    "preds = model.predict(x_test)\n",
    "print(preds)"
   ]
  },
  {
   "cell_type": "markdown",
   "id": "painted-cause",
   "metadata": {
    "papermill": {
     "duration": 0.030323,
     "end_time": "2021-05-26T13:24:27.638671",
     "exception": false,
     "start_time": "2021-05-26T13:24:27.608348",
     "status": "completed"
    },
    "tags": []
   },
   "source": [
    "<h2>Checking accuracy of the model</h2>"
   ]
  },
  {
   "cell_type": "code",
   "execution_count": null,
   "id": "aware-premiere",
   "metadata": {
    "execution": {
     "iopub.execute_input": "2021-05-26T13:24:27.709393Z",
     "iopub.status.busy": "2021-05-26T13:24:27.708709Z",
     "iopub.status.idle": "2021-05-26T13:24:28.258101Z",
     "shell.execute_reply": "2021-05-26T13:24:28.257525Z",
     "shell.execute_reply.started": "2021-05-23T05:47:28.117887Z"
    },
    "papermill": {
     "duration": 0.589152,
     "end_time": "2021-05-26T13:24:28.258250",
     "exception": false,
     "start_time": "2021-05-26T13:24:27.669098",
     "status": "completed"
    },
    "tags": []
   },
   "outputs": [],
   "source": [
    "conf_mat = confusion_matrix(y_test, preds)\n",
    "df_cm = pd.DataFrame(conf_mat, index=df['Disease'].unique(), columns=df['Disease'].unique())\n",
    "print('F1-score% =', f1_score(y_test, preds, average='macro')*100, '|', 'Accuracy% =', accuracy_score(y_test, preds)*100)\n",
    "sns.heatmap(df_cm)"
   ]
  },
  {
   "cell_type": "markdown",
   "id": "postal-calculator",
   "metadata": {
    "papermill": {
     "duration": 0.032494,
     "end_time": "2021-05-26T13:24:28.323815",
     "exception": false,
     "start_time": "2021-05-26T13:24:28.291321",
     "status": "completed"
    },
    "tags": []
   },
   "source": [
    "<h2>Functions used for prediction of user inputs and sending data to cloud</h2>"
   ]
  },
  {
   "cell_type": "code",
   "execution_count": null,
   "id": "driving-greeting",
   "metadata": {
    "execution": {
     "iopub.execute_input": "2021-05-26T13:24:28.401599Z",
     "iopub.status.busy": "2021-05-26T13:24:28.398609Z",
     "iopub.status.idle": "2021-05-26T13:24:28.404789Z",
     "shell.execute_reply": "2021-05-26T13:24:28.405304Z",
     "shell.execute_reply.started": "2021-05-23T05:47:28.684313Z"
    },
    "papermill": {
     "duration": 0.048165,
     "end_time": "2021-05-26T13:24:28.405473",
     "exception": false,
     "start_time": "2021-05-26T13:24:28.357308",
     "status": "completed"
    },
    "tags": []
   },
   "outputs": [],
   "source": [
    "def message():\n",
    "    if (Symptom1.get() == \"None\" and  Symptom2.get() == \"None\" and Symptom3.get() == \"None\" and Symptom4.get() == \"None\" and Symptom5.get() == \"None\"):\n",
    "        messagebox.showinfo(\"OPPS!!\", \"ENTER  SYMPTOMS PLEASE\")\n",
    "    else :\n",
    "        SVM()\n",
    "\n",
    "def SVM():\n",
    "    psymptoms = [Symptom1.get(),Symptom2.get(),Symptom3.get(),Symptom4.get(),Symptom5.get()]\n",
    "    loc = location.get()\n",
    "    a = np.array(df1[\"Symptom\"])\n",
    "    b = np.array(df1[\"weight\"])\n",
    "    for j in range(len(psymptoms)):\n",
    "        for k in range(len(a)):\n",
    "            if psymptoms[j]==a[k]:\n",
    "                psymptoms[j]=b[k]\n",
    "\n",
    "    nulls = [0,0,0,0,0,0,0,0,0,0,0,0]\n",
    "    psy = [psymptoms + nulls]\n",
    "\n",
    "    pred2 = model.predict(psy)\n",
    "    t3.delete(\"1.0\", END)\n",
    "    t3.insert(END, pred2[0])\n",
    "\n",
    "    if(pred2[0]==\"GERD\"):\n",
    "        z=urllib.request.urlopen('https://api.thingspeak.com/update?api_key=MP77HD9B13Z7N6BO&field1=1&field2=0&field3='+str(loc))\n",
    "        z.read()\n",
    "    if(pred2[0]==\"Hepatitis C\"):\n",
    "        r=urllib.request.urlopen('https://api.thingspeak.com/update?api_key=MP77HD9B13Z7N6BO&field1=0&field2=1&field3='+str(loc))\n",
    "        r.read()"
   ]
  },
  {
   "cell_type": "markdown",
   "id": "downtown-commonwealth",
   "metadata": {
    "papermill": {
     "duration": 0.032668,
     "end_time": "2021-05-26T13:24:28.470998",
     "exception": false,
     "start_time": "2021-05-26T13:24:28.438330",
     "status": "completed"
    },
    "tags": []
   },
   "source": [
    "<p>Thingspeak is being used as the cloud. For simplicity, only when the diseases GERD or Hepatitis C are detected, the data is sent to cloud. The datas sent to cloud are the predicted disease and the location of the user.</p>\n",
    "<p>Every time GERD is predicted, 1 is sent to GERD field and 0 to Hepatitis field and vice versa if Hepatitis is detected.\n",
    "1 and 0 has been choosen for ease in aggrevation while analytics.<p>"
   ]
  },
  {
   "cell_type": "markdown",
   "id": "distinguished-supplier",
   "metadata": {
    "papermill": {
     "duration": 0.032913,
     "end_time": "2021-05-26T13:24:28.537640",
     "exception": false,
     "start_time": "2021-05-26T13:24:28.504727",
     "status": "completed"
    },
    "tags": []
   },
   "source": [
    "<h2>Designing of GUI</h2>"
   ]
  },
  {
   "cell_type": "code",
   "execution_count": 13,
   "id": "negative-sellers",
   "metadata": {
    "execution": {
     "iopub.execute_input": "2021-05-26T13:24:28.612811Z",
     "iopub.status.busy": "2021-05-26T13:24:28.612103Z",
     "iopub.status.idle": "2021-05-26T13:24:28.761142Z",
     "shell.execute_reply": "2021-05-26T13:24:28.761699Z",
     "shell.execute_reply.started": "2021-05-23T05:47:28.697627Z"
    },
    "papermill": {
     "duration": 0.191019,
     "end_time": "2021-05-26T13:24:28.761891",
     "exception": false,
     "start_time": "2021-05-26T13:24:28.570872",
     "status": "completed"
    },
    "scrolled": true,
    "tags": []
   },
   "outputs": [
    {
     "ename": "NameError",
     "evalue": "name 'message' is not defined",
     "output_type": "error",
     "traceback": [
      "\u001b[1;31m---------------------------------------------------------------------------\u001b[0m",
      "\u001b[1;31mNameError\u001b[0m                                 Traceback (most recent call last)",
      "\u001b[1;32m~\\AppData\\Local\\Temp/ipykernel_9104/420633333.py\u001b[0m in \u001b[0;36m<module>\u001b[1;34m\u001b[0m\n\u001b[0;32m     48\u001b[0m \u001b[0mlocLb\u001b[0m\u001b[1;33m.\u001b[0m\u001b[0mgrid\u001b[0m\u001b[1;33m(\u001b[0m\u001b[0mrow\u001b[0m\u001b[1;33m=\u001b[0m\u001b[1;36m12\u001b[0m\u001b[1;33m,\u001b[0m \u001b[0mcolumn\u001b[0m\u001b[1;33m=\u001b[0m\u001b[1;36m1\u001b[0m\u001b[1;33m,\u001b[0m \u001b[0mpady\u001b[0m\u001b[1;33m=\u001b[0m\u001b[1;36m10\u001b[0m\u001b[1;33m,\u001b[0m \u001b[0msticky\u001b[0m\u001b[1;33m=\u001b[0m\u001b[0mW\u001b[0m\u001b[1;33m)\u001b[0m\u001b[1;33m\u001b[0m\u001b[1;33m\u001b[0m\u001b[0m\n\u001b[0;32m     49\u001b[0m \u001b[1;33m\u001b[0m\u001b[0m\n\u001b[1;32m---> 50\u001b[1;33m \u001b[0mlr\u001b[0m \u001b[1;33m=\u001b[0m \u001b[0mButton\u001b[0m\u001b[1;33m(\u001b[0m\u001b[0mroot\u001b[0m\u001b[1;33m,\u001b[0m \u001b[0mtext\u001b[0m\u001b[1;33m=\u001b[0m\u001b[1;34m\"Predict\"\u001b[0m\u001b[1;33m,\u001b[0m\u001b[0mheight\u001b[0m\u001b[1;33m=\u001b[0m\u001b[1;36m2\u001b[0m\u001b[1;33m,\u001b[0m \u001b[0mwidth\u001b[0m\u001b[1;33m=\u001b[0m\u001b[1;36m20\u001b[0m\u001b[1;33m,\u001b[0m \u001b[0mcommand\u001b[0m\u001b[1;33m=\u001b[0m\u001b[0mmessage\u001b[0m\u001b[1;33m)\u001b[0m\u001b[1;33m\u001b[0m\u001b[1;33m\u001b[0m\u001b[0m\n\u001b[0m\u001b[0;32m     51\u001b[0m \u001b[0mlr\u001b[0m\u001b[1;33m.\u001b[0m\u001b[0mconfig\u001b[0m\u001b[1;33m(\u001b[0m\u001b[0mfont\u001b[0m\u001b[1;33m=\u001b[0m\u001b[1;33m(\u001b[0m\u001b[1;34m\"Helvetica\"\u001b[0m\u001b[1;33m,\u001b[0m \u001b[1;36m15\u001b[0m\u001b[1;33m)\u001b[0m\u001b[1;33m)\u001b[0m\u001b[1;33m\u001b[0m\u001b[1;33m\u001b[0m\u001b[0m\n\u001b[0;32m     52\u001b[0m \u001b[0mlr\u001b[0m\u001b[1;33m.\u001b[0m\u001b[0mgrid\u001b[0m\u001b[1;33m(\u001b[0m\u001b[0mrow\u001b[0m\u001b[1;33m=\u001b[0m\u001b[1;36m15\u001b[0m\u001b[1;33m,\u001b[0m \u001b[0mcolumn\u001b[0m\u001b[1;33m=\u001b[0m\u001b[1;36m1\u001b[0m\u001b[1;33m,\u001b[0m\u001b[0mpady\u001b[0m\u001b[1;33m=\u001b[0m\u001b[1;36m10\u001b[0m\u001b[1;33m)\u001b[0m\u001b[1;33m\u001b[0m\u001b[1;33m\u001b[0m\u001b[0m\n",
      "\u001b[1;31mNameError\u001b[0m: name 'message' is not defined"
     ]
    }
   ],
   "source": [
    "root = Tk()\n",
    "root.title(\" Disease Prediction From Symptoms\")\n",
    "root.configure()\n",
    "\n",
    "Symptom1 = StringVar()\n",
    "Symptom1.set(None)\n",
    "Symptom2 = StringVar()\n",
    "Symptom2.set(None)\n",
    "Symptom3 = StringVar()\n",
    "Symptom3.set(None)\n",
    "Symptom4 = StringVar()\n",
    "Symptom4.set(None)\n",
    "Symptom5 = StringVar()\n",
    "Symptom5.set(None)\n",
    "location = StringVar()\n",
    "location.set(None)\n",
    "\n",
    "w2 = Label(root, justify=CENTER, text=\" Disease Prediction From Symptoms \")\n",
    "w2.config(font=(\"Helvetica\", 30))\n",
    "w2.grid(row=1, column=0, columnspan=2, padx=100)\n",
    "\n",
    "NameLb1 = Label(root, text=\"\")\n",
    "NameLb1.config(font=(\"Helvetica\", 20))\n",
    "NameLb1.grid(row=5, column=1, pady=10,  sticky=W)\n",
    "\n",
    "S1Lb = Label(root,  text=\"Symptom 1\")\n",
    "S1Lb.config(font=(\"Helvetica\", 15))\n",
    "S1Lb.grid(row=7, column=1, pady=10 , sticky=W)\n",
    "\n",
    "S2Lb = Label(root,  text=\"Symptom 2\")\n",
    "S2Lb.config(font=(\"Helvetica\", 15))\n",
    "S2Lb.grid(row=8, column=1, pady=10, sticky=W)\n",
    "\n",
    "S3Lb = Label(root,  text=\"Symptom 3\")\n",
    "S3Lb.config(font=(\"Helvetica\", 15))\n",
    "S3Lb.grid(row=9, column=1, pady=10, sticky=W)\n",
    "\n",
    "S4Lb = Label(root,  text=\"Symptom 4\")\n",
    "S4Lb.config(font=(\"Helvetica\", 15))\n",
    "S4Lb.grid(row=10, column=1, pady=10, sticky=W)\n",
    "\n",
    "S5Lb = Label(root,  text=\"Symptom 5\")\n",
    "S5Lb.config(font=(\"Helvetica\", 15))\n",
    "S5Lb.grid(row=11, column=1, pady=10, sticky=W)\n",
    "\n",
    "locLb = Label(root,  text=\"Location\")\n",
    "locLb.config(font=(\"Helvetica\", 15))\n",
    "locLb.grid(row=12, column=1, pady=10, sticky=W)\n",
    "\n",
    "lr = Button(root, text=\"Predict\",height=2, width=20, command=message)\n",
    "lr.config(font=(\"Helvetica\", 15))\n",
    "lr.grid(row=15, column=1,pady=10)\n",
    "\n",
    "#OPTIONS = sorted(symptoms)\n",
    "OPTIONS = [\"fatigue\", \"yellowish_skin\", \"loss_of_appetite\", \"yellowing_of_eyes\", 'family_history',\"stomach_pain\", \"ulcers_on_tongue\", \"vomiting\", \"cough\", \"chest_pain\"]\n",
    "LOCATIONS = [\"New Delhi\", \"Mumbai\", \"Chennai\", \"Kolkata\", \"Bengaluru\"]\n",
    "\n",
    "S1En = OptionMenu(root, Symptom1,*OPTIONS)\n",
    "S1En.grid(row=7, column=1)\n",
    "\n",
    "S2En = OptionMenu(root, Symptom2,*OPTIONS)\n",
    "S2En.grid(row=8, column=1)\n",
    "\n",
    "S3En = OptionMenu(root, Symptom3,*OPTIONS)\n",
    "S3En.grid(row=9, column=1)\n",
    "\n",
    "S4En = OptionMenu(root, Symptom4,*OPTIONS)\n",
    "S4En.grid(row=10, column=1)\n",
    "\n",
    "S5En = OptionMenu(root, Symptom5,*OPTIONS)\n",
    "S5En.grid(row=11, column=1)\n",
    "\n",
    "LocEn = OptionMenu(root, location,*LOCATIONS)\n",
    "LocEn.grid(row=12, column=1)\n",
    "\n",
    "NameLb = Label(root, text=\"\")\n",
    "NameLb.config(font=(\"Helvetica\", 20))\n",
    "NameLb.grid(row=13, column=1, pady=10,  sticky=W)\n",
    "\n",
    "NameLb = Label(root, text=\"\")\n",
    "NameLb.config(font=(\"Helvetica\", 15))\n",
    "NameLb.grid(row=18, column=1, pady=10,  sticky=W)\n",
    "\n",
    "t3 = Text(root, height=2, width=20)\n",
    "t3.config(font=(\"Helvetica\", 20))\n",
    "t3.grid(row=19, column=1 , padx=10)\n",
    "\n",
    "root.mainloop()"
   ]
  },
  {
   "cell_type": "markdown",
   "id": "corresponding-locking",
   "metadata": {
    "papermill": {
     "duration": 0.033246,
     "end_time": "2021-05-26T13:24:28.828443",
     "exception": false,
     "start_time": "2021-05-26T13:24:28.795197",
     "status": "completed"
    },
    "tags": []
   },
   "source": [
    "You might experience error in the GUI part of the code while running in kaggle notebook. Kindly export the code to jupyter or spyder for better results."
   ]
  },
  {
   "cell_type": "markdown",
   "id": "chinese-miami",
   "metadata": {
    "papermill": {
     "duration": 0.033181,
     "end_time": "2021-05-26T13:24:28.895214",
     "exception": false,
     "start_time": "2021-05-26T13:24:28.862033",
     "status": "completed"
    },
    "tags": []
   },
   "source": []
  },
  {
   "cell_type": "markdown",
   "id": "english-breath",
   "metadata": {
    "papermill": {
     "duration": 0.032913,
     "end_time": "2021-05-26T13:24:28.961244",
     "exception": false,
     "start_time": "2021-05-26T13:24:28.928331",
     "status": "completed"
    },
    "tags": []
   },
   "source": [
    "The second list named \"OPTIONS\" which has been commented are the symptoms of GERD and Hepatitis C. They can be directly used if needed."
   ]
  },
  {
   "cell_type": "code",
   "execution_count": null,
   "id": "weekly-expert",
   "metadata": {
    "papermill": {
     "duration": 0.032736,
     "end_time": "2021-05-26T13:24:29.560318",
     "exception": false,
     "start_time": "2021-05-26T13:24:29.527582",
     "status": "completed"
    },
    "tags": []
   },
   "outputs": [],
   "source": []
  }
 ],
 "metadata": {
  "kernelspec": {
   "display_name": "Python 3 (ipykernel)",
   "language": "python",
   "name": "python3"
  },
  "language_info": {
   "codemirror_mode": {
    "name": "ipython",
    "version": 3
   },
   "file_extension": ".py",
   "mimetype": "text/x-python",
   "name": "python",
   "nbconvert_exporter": "python",
   "pygments_lexer": "ipython3",
   "version": "3.9.7"
  },
  "papermill": {
   "default_parameters": {},
   "duration": 14.842818,
   "end_time": "2021-05-26T13:24:31.014710",
   "environment_variables": {},
   "exception": null,
   "input_path": "__notebook__.ipynb",
   "output_path": "__notebook__.ipynb",
   "parameters": {},
   "start_time": "2021-05-26T13:24:16.171892",
   "version": "2.3.3"
  }
 },
 "nbformat": 4,
 "nbformat_minor": 5
}
